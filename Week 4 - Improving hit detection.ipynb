{
 "cells": [
  {
   "cell_type": "code",
   "execution_count": 2,
   "metadata": {},
   "outputs": [],
   "source": [
    "import numpy as np\n",
    "import matplotlib.pyplot as plt"
   ]
  },
  {
   "cell_type": "code",
   "execution_count": 49,
   "metadata": {},
   "outputs": [
    {
     "data": {
      "image/png": "[encoded data removed]",
      "text/plain": [
       "<Figure size 640x480 with 1 Axes>"
      ]
     },
     "metadata": {},
     "output_type": "display_data"
    }
   ],
   "source": [
    "from histograms import make_histogram\n",
    "master_dark = np.load('data/master_dark.npy')\n",
    "img = np.load('data/images/image8.npy')\n",
    "\n",
    "img -= master_dark\n",
    "\n",
    "bin_centres, hist_data = make_histogram(img, -1)\n",
    "\n",
    "plt.plot(bin_centres, hist_data)\n",
    "plt.xticks(np.arange(-50,250,25))\n",
    "plt.grid()\n",
    "plt.show()"
   ]
  },
  {
   "cell_type": "code",
   "execution_count": 5,
   "metadata": {},
   "outputs": [
    {
     "name": "stdout",
     "output_type": "stream",
     "text": [
      "[[0 0 2]\n",
      " [2 0 0]\n",
      " [0 2 0]]\n",
      "[[0 1 0]\n",
      " [0 0 1]\n",
      " [1 0 0]]\n"
     ]
    }
   ],
   "source": [
    "primary_threshold = 100\n",
    "secondary_threshold = 20\n",
    "\n",
    "primary_hits = np.where(img > primary_threshold, img, 0)\n",
    "secondary_hits = np.where(np.logical_and(img > secondary_threshold, img<primary_threshold), img, 0)\n",
    "\n",
    "primary_hit_locations = np.where(primary_hits > 0)\n",
    "secondary_hit_locations = np.where(secondary_hits > 0)"
   ]
  },
  {
   "cell_type": "markdown",
   "metadata": {},
   "source": [
    "## Determining hit values\n",
    "\n",
    "Go through the image:\n",
    "- First, looking for all primary hits\n",
    "    - To get the value of a primary hit, seek out all pixels that are above $n\\sigma$ of the pedestal noise around it (BFS) and sum them, along with the value of the primary hit\n",
    "    - Record any secondary hits in this area. These are \"used secondaries\", and should not be considered later\n",
    "    - The location of this hit should be the initial primary (for now)\n",
    "- Now, go though all secondary hits\n",
    "    - If a secondary has not already been used, then seek out all other pixels nearby that are bright enough (same as primaries), sum these\n",
    "    - The location of this hit is the weighted average of all pixels considered"
   ]
  },
  {
   "cell_type": "markdown",
   "metadata": {},
   "source": [
    "### Fitting the noise pedestal"
   ]
  },
  {
   "cell_type": "code",
   "execution_count": 9,
   "metadata": {},
   "outputs": [
    {
     "data": {
      "text/plain": [
       "array([ 1.74818675e+05, -1.01464805e+00,  9.56729796e+00])"
      ]
     },
     "execution_count": 9,
     "metadata": {},
     "output_type": "execute_result"
    }
   ],
   "source": [
    "from histograms import gaussian_model\n",
    "from scipy.optimize import curve_fit\n",
    "\n",
    "pedestal_params, _ = curve_fit(gaussian_model, bin_centres, hist_data, p0=[1e6, 0, 10])\n",
    "pedestal_sigma = pedestal_params[2]\n",
    "pedestal_params"
   ]
  },
  {
   "cell_type": "code",
   "execution_count": 3,
   "metadata": {},
   "outputs": [
    {
     "data": {
      "text/plain": [
       "(array([13.,  7.]),\n",
       " array([[0, 1],\n",
       "        [3, 2]], dtype=int64),\n",
       " array([[0, 0, 0, 0, 0],\n",
       "        [0, 0, 1, 0, 1],\n",
       "        [0, 0, 0, 0, 0],\n",
       "        [0, 0, 0, 1, 0],\n",
       "        [0, 0, 0, 0, 0]]),\n",
       " array([[1, 1, 1, 1, 0],\n",
       "        [0, 0, 1, 1, 1],\n",
       "        [0, 0, 0, 0, 0],\n",
       "        [0, 0, 1, 1, 1],\n",
       "        [0, 0, 1, 0, 0]]))"
      ]
     },
     "execution_count": 3,
     "metadata": {},
     "output_type": "execute_result"
    }
   ],
   "source": [
    "from improved_spc import get_primary_hit_locations\n",
    "from hit_detection import bfs\n",
    "\n",
    "\n",
    "def get_primary_hits(img, primary_hits, secondary_hits, pedestal_sigma, n_sigma):\n",
    "    primary_hit_locations = get_primary_hit_locations(primary_hits)\n",
    "\n",
    "    final_hit_values = np.zeros(len(primary_hit_locations))\n",
    "    final_hit_locations = []\n",
    "    used_secondaries = np.zeros_like(secondary_hits)\n",
    "\n",
    "    # pixels that are allowed for calculation\n",
    "    valid_pixels = np.where(img > n_sigma * pedestal_sigma, img, 0)\n",
    "    visited_valid = np.zeros_like(valid_pixels)\n",
    "\n",
    "    for i, loc in enumerate(primary_hit_locations):\n",
    "        loc = tuple(loc)\n",
    "\n",
    "        # if the pixel has already been used, skip it\n",
    "        if visited_valid[loc]:\n",
    "            continue\n",
    "        else:\n",
    "            neighbours, visited_valid = bfs(loc, valid_pixels, visited_valid)\n",
    "\n",
    "            # TODO: Fix bfs. Currently sometimes returns same pixel twice.\n",
    "            neighbours = np.unique(np.array(neighbours), axis=0)\n",
    "            # this will include the primary hit pixel\n",
    "            final_hit_values[i] = np.sum(img[tuple(neighbours.T)])\n",
    "            final_hit_locations.append(loc)\n",
    "\n",
    "    used_secondaries = np.copy(visited_valid)\n",
    "    used_secondaries = np.where(secondary_hits, used_secondaries, 0)\n",
    "\n",
    "    return (\n",
    "        final_hit_values[final_hit_values > 0],\n",
    "        np.array(final_hit_locations),\n",
    "        used_secondaries,\n",
    "        visited_valid,\n",
    "    )\n",
    "\n",
    "\n",
    "test = np.array(\n",
    "    [\n",
    "        [1, 3, 1, 1, 0],\n",
    "        [0, 0, 2, 3, 2],\n",
    "        [2, 0, 0, 0, 0],\n",
    "        [2, 0, 3, 2, 1],\n",
    "        [0, 0, 1, 0, 0],\n",
    "    ]\n",
    ")\n",
    "\n",
    "get_primary_hits(\n",
    "    test,\n",
    "    np.where(test > 2, test, 0),\n",
    "    np.where(np.logical_and(test > 1, test < 3), test, 0),\n",
    "    0.5,\n",
    "    1,\n",
    ")"
   ]
  },
  {
   "cell_type": "code",
   "execution_count": 4,
   "metadata": {},
   "outputs": [
    {
     "data": {
      "text/plain": [
       "(array([5.]), array([[2., 0.]]))"
      ]
     },
     "execution_count": 4,
     "metadata": {},
     "output_type": "execute_result"
    }
   ],
   "source": [
    "def get_secondary_hits(\n",
    "    img, secondary_hits, used_secondaries, visited_valid, pedestal_sigma, n_sigma\n",
    "):\n",
    "\n",
    "    all_secondary_pixels = np.array(np.nonzero(secondary_hits)).transpose()\n",
    "\n",
    "    final_hit_values = np.zeros(len(all_secondary_pixels))\n",
    "    final_hit_locations = []\n",
    "\n",
    "    # pixels that are allowed for calculation\n",
    "    valid_pixels = np.where(img > n_sigma * pedestal_sigma, img, 0)\n",
    "\n",
    "    for i, loc in enumerate(all_secondary_pixels):\n",
    "        loc = tuple(loc)\n",
    "\n",
    "        # if the pixel has already been used, skip it\n",
    "        if used_secondaries[loc] or visited_valid[loc]:\n",
    "            continue\n",
    "        else:\n",
    "            neighbours, visited_valid = bfs(loc, valid_pixels, visited_valid)\n",
    "\n",
    "            if len(neighbours) < 2:\n",
    "                continue\n",
    "\n",
    "            neighbours = np.unique(np.array(neighbours), axis=0)\n",
    "            # this will include the hit pixel\n",
    "            final_hit_values[i] = np.sum(img[tuple(neighbours.T)])\n",
    "\n",
    "            # final location is integer rounded weighted average of the neighbours\n",
    "            final_hit_locations.append(\n",
    "                np.rint(\n",
    "                    np.average(neighbours, axis=0, weights=img[tuple(neighbours.T)])\n",
    "                )\n",
    "            )\n",
    "\n",
    "    return final_hit_values[final_hit_values > 0], np.array(final_hit_locations)\n",
    "\n",
    "\n",
    "test = np.array(\n",
    "    [\n",
    "        [1, 3, 1, 1, 0],\n",
    "        [0, 0, 2, 3, 2],\n",
    "        [2, 1, 0, 0, 0],\n",
    "        [2, 0, 3, 2, 1],\n",
    "        [0, 0, 1, 0, 0],\n",
    "    ]\n",
    ")\n",
    "\n",
    "us, vv = get_primary_hits(\n",
    "    test,\n",
    "    np.where(test > 2, test, 0),\n",
    "    np.where(np.logical_and(test > 1, test < 3), test, 0),\n",
    "    0.5,\n",
    "    1,\n",
    ")[2:]\n",
    "get_secondary_hits(\n",
    "    test, np.where(np.logical_and(test > 1, test < 3), test, 0), us, vv, 0.5, 1\n",
    ")"
   ]
  },
  {
   "cell_type": "markdown",
   "metadata": {},
   "source": [
    "## Testing this shit"
   ]
  },
  {
   "cell_type": "code",
   "execution_count": 5,
   "metadata": {},
   "outputs": [
    {
     "data": {
      "text/plain": [
       "9.56729796114698"
      ]
     },
     "execution_count": 5,
     "metadata": {},
     "output_type": "execute_result"
    }
   ],
   "source": [
    "from histograms import make_histogram\n",
    "master_dark = np.load('data/master_dark.npy')\n",
    "img = np.load('data/images/image8.npy')\n",
    "img -= master_dark\n",
    "\n",
    "bin_centres, hist_data = make_histogram(img, -1)\n",
    "\n",
    "from histograms import gaussian_model\n",
    "from scipy.optimize import curve_fit\n",
    "\n",
    "pedestal_params, _ = curve_fit(gaussian_model, bin_centres, hist_data, p0=[1e6, 0, 10])\n",
    "pedestal_sigma = pedestal_params[2]\n",
    "pedestal_sigma"
   ]
  },
  {
   "cell_type": "code",
   "execution_count": 41,
   "metadata": {},
   "outputs": [],
   "source": [
    "primary_threshold = 75\n",
    "secondary_threshold = 30\n",
    "n_sigma = 2\n",
    "primary_hits = np.where(img > primary_threshold, img, 0)\n",
    "\n",
    "secondary_hits = np.where(\n",
    "    np.logical_and(img > secondary_threshold, img < primary_threshold), img, 0\n",
    ")\n",
    "\n",
    "primary_hit_values, primary_hit_locations, used_secondaries, visited_valid = (\n",
    "    get_primary_hits(img, primary_hits, secondary_hits, pedestal_sigma, n_sigma)\n",
    ")\n",
    "\n",
    "secondary_hit_values, secondary_hit_locations = get_secondary_hits(\n",
    "    img, secondary_hits, used_secondaries, visited_valid, pedestal_sigma, n_sigma\n",
    ")\n",
    "\n",
    "all_hit_values = np.concatenate((primary_hit_values, secondary_hit_values))\n"
   ]
  },
  {
   "cell_type": "code",
   "execution_count": 42,
   "metadata": {},
   "outputs": [
    {
     "data": {
      "text/plain": [
       "(0.0, 450.0)"
      ]
     },
     "execution_count": 42,
     "metadata": {},
     "output_type": "execute_result"
    },
    {
     "data": {
      "image/png": "[encoded data removed]",
      "text/plain": [
       "<Figure size 640x480 with 1 Axes>"
      ]
     },
     "metadata": {},
     "output_type": "display_data"
    }
   ],
   "source": [
    "%matplotlib inline\n",
    "from histograms import make_histogram\n",
    "\n",
    "hits_bin_centres, hits_hist_data = make_histogram(all_hit_values, -1)\n",
    "\n",
    "plt.plot(hits_bin_centres, hits_hist_data)\n",
    "plt.xlim(0,450)"
   ]
  },
  {
   "cell_type": "code",
   "execution_count": 74,
   "metadata": {},
   "outputs": [
    {
     "ename": "",
     "evalue": "",
     "output_type": "error",
     "traceback": [
      "\u001b[1;31mThe Kernel crashed while executing code in the current cell or a previous cell. \n",
      "\u001b[1;31mPlease review the code in the cell(s) to identify a possible cause of the failure. \n",
      "\u001b[1;31mClick <a href='https://aka.ms/vscodeJupyterKernelCrash'>here</a> for more info. \n",
      "\u001b[1;31mView Jupyter <a href='command:jupyter.viewOutput'>log</a> for further details."
     ]
    }
   ],
   "source": [
    "hit_locations = np.concatenate((primary_hit_locations, secondary_hit_locations))\n",
    "\n",
    "def highlight_cell(x,y, ax=None, **kwargs):\n",
    "    rect = plt.Rectangle((y-.5, x-.5), 1,1, fill=False, linewidth=2, **kwargs)\n",
    "    ax = ax or plt.gca()\n",
    "    ax.add_patch(rect)\n",
    "    return rect\n",
    "%matplotlib qt\n",
    "plt.imshow(img, cmap='jet')\n",
    "for loc in hit_locations:\n",
    "    highlight_cell(*loc, color='r')\n",
    "\n"
   ]
  },
  {
   "cell_type": "code",
   "execution_count": 22,
   "metadata": {},
   "outputs": [
    {
     "data": {
      "image/png": "[encoded data removed]",
      "text/plain": [
       "<Figure size 640x480 with 1 Axes>"
      ]
     },
     "metadata": {},
     "output_type": "display_data"
    }
   ],
   "source": [
    "def highlight_cell(x,y, ax=None, **kwargs):\n",
    "    rect = plt.Rectangle((y-.5, x-.5), 1,1, fill=False, linewidth=2, **kwargs)\n",
    "    ax = ax or plt.gca()\n",
    "    ax.add_patch(rect)\n",
    "    return rect\n",
    "def test_region(img, rows, cols, primary_threshold, secondary_threshold, pedestal_sigma, n_sigma):\n",
    "    img = img.copy()\n",
    "    img = img[rows[0]:rows[1], cols[0]:cols[1]]\n",
    "\n",
    "    primary_hits = np.where(img > primary_threshold, img, 0)\n",
    "\n",
    "    secondary_hits = np.where(\n",
    "        np.logical_and(img > secondary_threshold, img < primary_threshold), img, 0\n",
    "    )\n",
    "\n",
    "    primary_hit_values, primary_hit_locations, used_secondaries, visited_valid = (\n",
    "        get_primary_hits(img, primary_hits, secondary_hits, pedestal_sigma, n_sigma)\n",
    "    )\n",
    "\n",
    "    secondary_hit_values, secondary_hit_locations = get_secondary_hits(\n",
    "        img, secondary_hits, used_secondaries, visited_valid, pedestal_sigma, n_sigma\n",
    "    )\n",
    "\n",
    "    all_hit_values = np.concatenate((primary_hit_values, secondary_hit_values))\n",
    "    all_hit_locations = np.concatenate((primary_hit_locations, secondary_hit_locations))\n",
    "\n",
    "    plt.imshow(img, cmap='jet', vmin=-50, vmax=250)\n",
    "    for loc in primary_hit_locations:\n",
    "        highlight_cell(*loc, color='r')\n",
    "    for loc in secondary_hit_locations:\n",
    "        highlight_cell(*loc, color='black')\n",
    "    \n",
    "%matplotlib inline\n",
    "        \n",
    "test_region(img, [1200, 1250], [1390,1440], 80, 30, 9.56729796114698, 2)\n"
   ]
  },
  {
   "cell_type": "markdown",
   "metadata": {},
   "source": [
    "## Conclusions\n",
    "\n",
    "- Histogram is not very sensitive to primary threshold (varied between 60-100, not much difference)\n",
    "    - although, if set too high (like >=100), we see a second peak in the historgram within the main peak, located at the primary threshold. So, should probably keep low enough to avoid this\n",
    "\n",
    "- Secondary threshold should not go much below 30, otherwise we get a peak at the low end of the histogram, probably from the pedestal noise. Optimal value seems to be between 30 and 50\n",
    "\n",
    "- 2-photon peak not really possible to see. Probably too few double hits detected to see it. (Looking at the image, double hits seem to be pretty rare)"
   ]
  }
 ],
 "metadata": {
  "kernelspec": {
   "display_name": "env",
   "language": "python",
   "name": "python3"
  },
  "language_info": {
   "codemirror_mode": {
    "name": "ipython",
    "version": 3
   },
   "file_extension": ".py",
   "mimetype": "text/x-python",
   "name": "python",
   "nbconvert_exporter": "python",
   "pygments_lexer": "ipython3",
   "version": "3.11.1"
  }
 },
 "nbformat": 4,
 "nbformat_minor": 2
}
